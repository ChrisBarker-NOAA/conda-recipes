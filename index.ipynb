{
 "cells": [
  {
   "cell_type": "markdown",
   "metadata": {},
   "source": [
    "<img style='float: left' width=\"430px\" src=\"https://raw.githubusercontent.com/ocefpaf/system-test/master/content/images/ioos_blue2.png\">\n",
    "<br>\n",
    "\n",
    "<br>\n",
    "\n",
    "<br>\n",
    "\n",
    "## [US Integrated Ocean Observing System](http://www.ioos.noaa.gov/)\n",
    "\n",
    "IOOS Conda recipes"
   ]
  },
  {
   "cell_type": "markdown",
   "metadata": {},
   "source": [
    "- [test_iris.ipynb](notebooks/test_iris.ipynb)\n",
    "- [test_iris_advanced_cartopy.ipynb](notebooks/test_iris_advanced_cartopy.ipynb)\n",
    "- [test_owslib_cartopy.ipynb](notebooks/test_owslib_cartopy.ipynb)"
   ]
  }
 ],
 "metadata": {
  "kernelspec": {
   "display_name": "Python 2",
   "language": "python",
   "name": "python2"
  },
  "language_info": {
   "codemirror_mode": {
    "name": "ipython",
    "version": 2
   },
   "file_extension": ".py",
   "mimetype": "text/x-python",
   "name": "python",
   "nbconvert_exporter": "python",
   "pygments_lexer": "ipython2",
   "version": "2.7.10"
  }
 },
 "nbformat": 4,
 "nbformat_minor": 0
}
